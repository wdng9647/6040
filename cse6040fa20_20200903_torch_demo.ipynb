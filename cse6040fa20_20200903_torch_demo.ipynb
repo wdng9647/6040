{
  "nbformat": 4,
  "nbformat_minor": 0,
  "metadata": {
    "colab": {
      "provenance": [],
      "include_colab_link": true
    },
    "kernelspec": {
      "name": "python3",
      "display_name": "Python 3"
    },
    "accelerator": "GPU",
    "gpuClass": "standard"
  },
  "cells": [
    {
      "cell_type": "markdown",
      "metadata": {
        "id": "view-in-github",
        "colab_type": "text"
      },
      "source": [
        "<a href=\"https://colab.research.google.com/github/wdng9647/6040/blob/main/cse6040fa20_20200903_torch_demo.ipynb\" target=\"_parent\"><img src=\"https://colab.research.google.com/assets/colab-badge.svg\" alt=\"Open In Colab\"/></a>"
      ]
    },
    {
      "cell_type": "code",
      "metadata": {
        "id": "lyGBDpAAPhIg"
      },
      "source": [
        "import sys\n",
        "print(\"* Python version:\", sys.version)"
      ],
      "execution_count": null,
      "outputs": []
    },
    {
      "cell_type": "code",
      "metadata": {
        "id": "xn6w_IhXYprT"
      },
      "source": [
        "import torch\n",
        "print(\"* PyTorch version:\", torch.__version__)"
      ],
      "execution_count": null,
      "outputs": []
    },
    {
      "cell_type": "code",
      "metadata": {
        "id": "TOmwRU1lQca1"
      },
      "source": [
        "n = 1000\n",
        "A_torch = torch.rand((n, n))"
      ],
      "execution_count": null,
      "outputs": []
    },
    {
      "cell_type": "code",
      "metadata": {
        "id": "kBzFWfw-SHK1"
      },
      "source": [
        "B_torch = torch.rand((n, n))\n",
        "C_torch = A_torch @ B_torch"
      ],
      "execution_count": null,
      "outputs": []
    },
    {
      "cell_type": "code",
      "metadata": {
        "id": "HLPATLEsY-Ja"
      },
      "source": [
        "%timeit A_torch @ B_torch"
      ],
      "execution_count": null,
      "outputs": []
    },
    {
      "cell_type": "code",
      "metadata": {
        "id": "pkPtsqonZMdZ"
      },
      "source": [
        "A_gpu = A_torch.to('cuda')\n",
        "B_gpu = B_torch.to('cuda')\n",
        "C_gpu = A_gpu @ B_gpu"
      ],
      "execution_count": null,
      "outputs": []
    },
    {
      "cell_type": "code",
      "metadata": {
        "id": "Nji9qnGrZShS"
      },
      "source": [
        "%timeit A_gpu @ B_gpu"
      ],
      "execution_count": null,
      "outputs": []
    },
    {
      "cell_type": "code",
      "metadata": {
        "id": "G64WV5D0Zjqk"
      },
      "source": [
        "# Error: maximum absolute difference of any entry\n",
        "(C_gpu.to('cpu') - C_torch).abs().max()"
      ],
      "execution_count": null,
      "outputs": []
    },
    {
      "cell_type": "code",
      "metadata": {
        "id": "7Qzd0gFRS-Og"
      },
      "source": [
        "# Aside: Cost of data transfer\n",
        "%timeit A_torch.to('cuda')"
      ],
      "execution_count": null,
      "outputs": []
    },
    {
      "cell_type": "code",
      "metadata": {
        "id": "hBYmDxX1ZpcF"
      },
      "source": [],
      "execution_count": null,
      "outputs": []
    }
  ]
}