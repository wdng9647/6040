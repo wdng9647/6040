{
  "cells": [
    {
      "cell_type": "markdown",
      "metadata": {
        "id": "view-in-github",
        "colab_type": "text"
      },
      "source": [
        "<a href=\"https://colab.research.google.com/github/wdng9647/6040/blob/main/week04_session01_NB01_functions_slicing_compute_final.ipynb\" target=\"_parent\"><img src=\"https://colab.research.google.com/assets/colab-badge.svg\" alt=\"Open In Colab\"/></a>"
      ]
    },
    {
      "cell_type": "markdown",
      "metadata": {
        "id": "3zB6qpnHX-yY"
      },
      "source": [
        "# Higher-order functions and a \"higher-level perspective\" on computation #\n",
        "\n",
        "_(September 20, 2022)_"
      ]
    },
    {
      "cell_type": "markdown",
      "metadata": {
        "id": "t96rQmfoX-yb"
      },
      "source": [
        "- Functions (and lambda functions)\n",
        "- Properties of slices\n",
        "- Problem solving example: Longest consecutive subsequences (from Codewars)"
      ]
    },
    {
      "cell_type": "markdown",
      "metadata": {
        "id": "LgCjD8nOX-yb"
      },
      "source": [
        "## Functions (and lambda functions) ##"
      ]
    },
    {
      "cell_type": "markdown",
      "metadata": {
        "id": "zzoXM7J6X-yc"
      },
      "source": [
        "Suppose you want to sort a list of numbers. Python's built-in `sorted` function can accomplish this task:"
      ]
    },
    {
      "cell_type": "code",
      "execution_count": null,
      "metadata": {
        "id": "t5z1xqwVX-yc",
        "outputId": "7ddc9bd9-6426-4932-df84-81b31396f8e5"
      },
      "outputs": [
        {
          "data": {
            "text/plain": [
              "[1906, 1912, 1956]"
            ]
          },
          "execution_count": 1,
          "metadata": {},
          "output_type": "execute_result"
        }
      ],
      "source": [
        "unsorted_list = [1912, 1956, 1906]\n",
        "### INSERT: SORT ###\n",
        "sorted(unsorted_list)"
      ]
    },
    {
      "cell_type": "markdown",
      "metadata": {
        "id": "CAA2s-8vX-yd"
      },
      "source": [
        "Consider the following \"list of dictionaries.\""
      ]
    },
    {
      "cell_type": "code",
      "execution_count": null,
      "metadata": {
        "id": "Ti_hO4uEX-yd",
        "outputId": "6006695a-2066-49e1-f13c-f302da857fdb"
      },
      "outputs": [
        {
          "name": "stdout",
          "output_type": "stream",
          "text": [
            "[{'first': 'Guido', 'last': 'Van Rossum', 'year': 1956}, {'first': 'Grace', 'last': 'Hopper', 'year': 1906}, {'first': 'Alan', 'last': 'Turing', 'year': 1912}]\n"
          ]
        }
      ],
      "source": [
        "data = [{'first': 'Guido', 'last': 'Van Rossum', 'year': 1956},\n",
        "        {'first': 'Grace', 'last': 'Hopper',     'year': 1906},\n",
        "        {'first': 'Alan',  'last': 'Turing',     'year': 1912}]\n",
        "print(data)"
      ]
    },
    {
      "cell_type": "markdown",
      "metadata": {
        "id": "Yehq5JUgX-ye"
      },
      "source": [
        "> _Aside:_ You can use the [pprint module](https://docs.python.org/3/library/pprint.html) to \"pretty print\" basic Python data structures."
      ]
    },
    {
      "cell_type": "code",
      "execution_count": null,
      "metadata": {
        "id": "HZVOw7_XX-ye",
        "outputId": "4eca2364-ca96-4e2d-a556-021cda00b21c"
      },
      "outputs": [
        {
          "name": "stdout",
          "output_type": "stream",
          "text": [
            "[{'first': 'Guido', 'last': 'Van Rossum', 'year': 1956},\n",
            " {'first': 'Grace', 'last': 'Hopper', 'year': 1906},\n",
            " {'first': 'Alan', 'last': 'Turing', 'year': 1912}]\n"
          ]
        }
      ],
      "source": [
        "from pprint import pprint\n",
        "pprint(data)"
      ]
    },
    {
      "cell_type": "markdown",
      "metadata": {
        "id": "dCGI49QmX-ye"
      },
      "source": [
        "Suppose you want to sort this list by year. The following doesn't work; why not?"
      ]
    },
    {
      "cell_type": "code",
      "execution_count": null,
      "metadata": {
        "id": "O4QFD6r0X-ye",
        "outputId": "18744546-b971-428c-d668-e6a80b65b48a"
      },
      "outputs": [
        {
          "name": "stdout",
          "output_type": "stream",
          "text": [
            "[{'first': 'Guido', 'last': 'Van Rossum', 'year': 1956},\n",
            " {'first': 'Grace', 'last': 'Hopper', 'year': 1906},\n",
            " {'first': 'Alan', 'last': 'Turing', 'year': 1912}]\n"
          ]
        }
      ],
      "source": [
        "pprint(data)\n",
        "#sorted(data)  # Fails: why?"
      ]
    },
    {
      "cell_type": "markdown",
      "metadata": {
        "id": "tY1rleGSX-ye"
      },
      "source": [
        "Sorting `data` fails because there is no way to compare the values, which are dictionaries. However, `sorted` allows you to specify a _key_ function that returns a value to use for ordering.\n",
        "\n",
        "```python\n",
        "# for any `e` in `data`, `key(e)`\n",
        "# returns a \"sortable\" value:\n",
        "sorted(data, key=...)\n",
        "```"
      ]
    },
    {
      "cell_type": "code",
      "execution_count": null,
      "metadata": {
        "id": "TKnRTDwgX-yf",
        "outputId": "387a6b9d-521b-4ed2-d297-631cf54219a3"
      },
      "outputs": [
        {
          "data": {
            "text/plain": [
              "[{'first': 'Grace', 'last': 'Hopper', 'year': 1906},\n",
              " {'first': 'Alan', 'last': 'Turing', 'year': 1912},\n",
              " {'first': 'Guido', 'last': 'Van Rossum', 'year': 1956}]"
            ]
          },
          "execution_count": 5,
          "metadata": {},
          "output_type": "execute_result"
        }
      ],
      "source": [
        "### INSERT: SORT BY KEY ###\n",
        "def get_year(e): # Let `e` be one of the dictionary elements of the `data` list\n",
        "    return e['year']\n",
        "\n",
        "sorted(data, key=get_year)"
      ]
    },
    {
      "cell_type": "markdown",
      "metadata": {
        "id": "itn9bsoDX-yf"
      },
      "source": [
        "Sorted is an example of a **higher-order function**, that is, a function that accepts another function as input or produces a new function as output. It's helpful because you can implement a sorting procedure once, and let a user customize it later on."
      ]
    },
    {
      "cell_type": "markdown",
      "metadata": {
        "id": "LdsschkJX-yf"
      },
      "source": [
        "**Lambda (or \"anonymous\") functions:** Useful for writing functions that you don't expect to reuse. Lambdas create a function value but do not assign it a name.\n",
        "\n",
        "For example, suppose you want to sort `data` by first name. Rather than create a separate function for extracting the first name, you can implement this function \"inline\" using the `lambda` construct to create the function you need."
      ]
    },
    {
      "cell_type": "code",
      "execution_count": null,
      "metadata": {
        "id": "uTWY1j2qX-yf",
        "outputId": "49e36d3b-1425-4f3e-f99e-95755695128d"
      },
      "outputs": [
        {
          "data": {
            "text/plain": [
              "[{'first': 'Alan', 'last': 'Turing', 'year': 1912},\n",
              " {'first': 'Grace', 'last': 'Hopper', 'year': 1906},\n",
              " {'first': 'Guido', 'last': 'Van Rossum', 'year': 1956}]"
            ]
          },
          "execution_count": 6,
          "metadata": {},
          "output_type": "execute_result"
        }
      ],
      "source": [
        "### INSERT: USE LAMBDA TO SORT BY FIRST NAME ###\n",
        "sorted(data, key=lambda e: e['first'])"
      ]
    },
    {
      "cell_type": "markdown",
      "metadata": {
        "id": "be4D0khYX-yf"
      },
      "source": [
        "> Lambdas are convenient but not necessarily easy for a future reader to understand. It's best left to situations where you the function you need is simple or you are sure you won't need to reuse that function in other situations."
      ]
    },
    {
      "cell_type": "markdown",
      "metadata": {
        "id": "wLzIsKYcX-yf"
      },
      "source": [
        "## Facts about slicing ##\n",
        "\n",
        "Take a moment to review how slicing works."
      ]
    },
    {
      "cell_type": "markdown",
      "metadata": {
        "id": "-nCLJipnX-yg"
      },
      "source": [
        "Here is one example: suppose you have the list `L` below and you want to extract the last three elements. Come up with two slice-based methods to do it."
      ]
    },
    {
      "cell_type": "code",
      "execution_count": null,
      "metadata": {
        "id": "2k_0KNr_X-yg",
        "outputId": "8cd04419-5308-4881-9004-0eb3953ce138"
      },
      "outputs": [
        {
          "name": "stdout",
          "output_type": "stream",
          "text": [
            "Method 0: [3, 4, 5]\n",
            "Method 1: [3, 4, 5]\n"
          ]
        }
      ],
      "source": [
        "L = [1, 2, 3, 4, 5]\n",
        "\n",
        "### INSERT: FRONT- AND BACK-RELATIVE SLICES ###\n",
        "print(\"Method 0:\", L[2:])\n",
        "print(\"Method 1:\", L[-3:])"
      ]
    },
    {
      "cell_type": "markdown",
      "metadata": {
        "id": "sedrSEVgX-yg"
      },
      "source": [
        "When you reference a list using an invalid index, you get an error. Uncomment the following line to see an example:"
      ]
    },
    {
      "cell_type": "code",
      "execution_count": null,
      "metadata": {
        "id": "04le1x64X-yg"
      },
      "outputs": [],
      "source": [
        "#L[len(L)] # Fails: Why?"
      ]
    },
    {
      "cell_type": "markdown",
      "metadata": {
        "id": "UTy6KBSJX-yg"
      },
      "source": [
        "Slices work a little differently. Consider the following slice of a list:"
      ]
    },
    {
      "cell_type": "code",
      "execution_count": null,
      "metadata": {
        "id": "ypRnhz7ZX-yg",
        "outputId": "0d693d35-7a33-4a57-bd73-d9e7cdd2704b"
      },
      "outputs": [
        {
          "data": {
            "text/plain": [
              "[]"
            ]
          },
          "execution_count": 9,
          "metadata": {},
          "output_type": "execute_result"
        }
      ],
      "source": [
        "### INSERT: SLICE FROM `len(L)` ###\n",
        "L[len(L):] ## ??"
      ]
    },
    {
      "cell_type": "markdown",
      "metadata": {
        "id": "-qg9fX54X-yg"
      },
      "source": [
        "Instead of it failing, it returns an empty list!\n",
        "\n",
        "You can think of it this way. First, Python interprets the slice; a range with invalid indices yields an empty range. When you then reference the list on an empty range, you get an empty list."
      ]
    },
    {
      "cell_type": "markdown",
      "metadata": {
        "id": "UCU6hRA8X-yg"
      },
      "source": [
        "Here is another example:"
      ]
    },
    {
      "cell_type": "code",
      "execution_count": null,
      "metadata": {
        "id": "aOlsEsBzX-yg",
        "outputId": "73117223-d296-4474-9076-d8482038a0be"
      },
      "outputs": [
        {
          "data": {
            "text/plain": [
              "[]"
            ]
          },
          "execution_count": 10,
          "metadata": {},
          "output_type": "execute_result"
        }
      ],
      "source": [
        "L[len(L):1_000_000_000]"
      ]
    },
    {
      "cell_type": "markdown",
      "metadata": {
        "id": "V4Q5L62cX-yh"
      },
      "source": [
        "## Exercise: Longest consecutive subsequence ##\n",
        "\n",
        "Given a string of characters, write some code to find longest consecutive substring of repeated characters. It should then return the character and the number of times it occurred in that longest substring. If there are multiple substrings of repeated characters having the same length, then the function should return the first one that occurs."
      ]
    },
    {
      "cell_type": "code",
      "execution_count": null,
      "metadata": {
        "id": "7PRvTOafX-yh"
      },
      "outputs": [],
      "source": [
        "# Examples:\n",
        "tests = {\n",
        "    'aaaabb': ('a', 4),\n",
        "    'bbbaaabaaaa': ('a', 4),\n",
        "    'bbbaaaabaaa': ('a', 4),\n",
        "    'bbbaabbaaa': ('b', 3), # tie: return first\n",
        "    'cbdeuuu900': ('u', 3),\n",
        "    'abbbbb': ('b', 5),\n",
        "    'aabb': ('a', 2),\n",
        "    'ba': ('b', 1),\n",
        "    '': ('', 0)\n",
        "}"
      ]
    },
    {
      "cell_type": "markdown",
      "metadata": {
        "id": "CGL3FbWKX-yh"
      },
      "source": [
        "Below, we'll implement a few variants. To check them, we'll use the following function.\n",
        "\n",
        "> It's a _higher-order function!_ It takes an implementation of LCS as input and checks it against the test cases shown above."
      ]
    },
    {
      "cell_type": "code",
      "execution_count": null,
      "metadata": {
        "id": "Hh3prKneX-yh"
      },
      "outputs": [],
      "source": [
        "def check(implementation):\n",
        "    for input_string, true_answer in tests.items():\n",
        "        print(f'* Checking {repr(input_string)}: True solution is {repr(true_answer)}...')\n",
        "        your_answer = implementation(input_string)\n",
        "        assert your_answer == true_answer, f'Your code produced {repr(your_answer)} instead.'\n",
        "    print(\"\\n(Passed!)\")"
      ]
    },
    {
      "cell_type": "markdown",
      "metadata": {
        "id": "1jKGFzRKX-yh"
      },
      "source": [
        "**Exercise.**"
      ]
    },
    {
      "cell_type": "code",
      "execution_count": null,
      "metadata": {
        "id": "18526ySmX-yh"
      },
      "outputs": [],
      "source": [
        "def longest_consecutive_subsequence(s):\n",
        "    pass # return a \"letter, count\" pair"
      ]
    },
    {
      "cell_type": "markdown",
      "metadata": {
        "id": "JLTLOgZgX-yh"
      },
      "source": [
        "### Baseline method: One-at-a-time ###\n",
        "\n",
        "Here is a version you might naturally implement. It works as follows.\n",
        "\n",
        "1. Let `best` and `best_count` hold the letter with the largest count seen so far.\n",
        "2. Visit each character `c` of the input string, `s` from left to right.\n",
        "3. Determine whether `c` is the same as the previous letter, `previous`, which has occurred `previous_count`.\n",
        "4. If `c` is the same as `previous`, increment `previous_count`.\n",
        "5. Otherwise, see if we can update `best` with `previous`."
      ]
    },
    {
      "cell_type": "code",
      "execution_count": null,
      "metadata": {
        "id": "8C7EEUsPX-yh"
      },
      "outputs": [],
      "source": [
        "def longest_consecutive_subsequence_0a(s):\n",
        "    best, best_count = '', 0\n",
        "    previous, previous_count = '', 0\n",
        "    for c in s:\n",
        "        if c == previous:\n",
        "            previous_count += 1\n",
        "        else:\n",
        "            if previous_count > best_count:\n",
        "                best, best_count = previous, previous_count\n",
        "            previous, previous_count = c, 1\n",
        "    if previous_count > best_count:\n",
        "        best, best_count = previous, previous_count\n",
        "    return best, best_count"
      ]
    },
    {
      "cell_type": "markdown",
      "metadata": {
        "id": "tEQ39PfgX-yh"
      },
      "source": [
        "First, let's check this solution:"
      ]
    },
    {
      "cell_type": "code",
      "execution_count": null,
      "metadata": {
        "id": "YxdYHLmdX-yh",
        "outputId": "1db0c7d0-5e74-42e7-e8c8-f28a7b2b4c2e"
      },
      "outputs": [
        {
          "name": "stdout",
          "output_type": "stream",
          "text": [
            "* Checking 'aaaabb': True solution is ('a', 4)...\n",
            "* Checking 'bbbaaabaaaa': True solution is ('a', 4)...\n",
            "* Checking 'bbbaaaabaaa': True solution is ('a', 4)...\n",
            "* Checking 'bbbaabbaaa': True solution is ('b', 3)...\n",
            "* Checking 'cbdeuuu900': True solution is ('u', 3)...\n",
            "* Checking 'abbbbb': True solution is ('b', 5)...\n",
            "* Checking 'aabb': True solution is ('a', 2)...\n",
            "* Checking 'ba': True solution is ('b', 1)...\n",
            "* Checking '': True solution is ('', 0)...\n",
            "\n",
            "(Passed!)\n"
          ]
        }
      ],
      "source": [
        "check(longest_consecutive_subsequence_0a)"
      ]
    },
    {
      "cell_type": "markdown",
      "metadata": {
        "id": "9dHkhNvDX-yh"
      },
      "source": [
        "The solution shown above has some repetition: the code to update `best` and `best_count` when a new and longer subsequence is discovered appears in two places (lines 8-9 and again in lines 11-12). We'll address that momentarily."
      ]
    },
    {
      "cell_type": "markdown",
      "metadata": {
        "id": "UKUf4GxxX-yh"
      },
      "source": [
        "Here is a variation on the above with a few revisions for clarity:\n",
        "\n",
        "1. _Refactor_ the redundant code into a separate function, `update`. Doing so improves reading, debugging, and maintaining the function. (If you wanted to solve the _shortest_ consecutive subsequence problem instead, you need only change `update`!)\n",
        "2. Maintain substrings and use `len` to get the length when needed.\n",
        "3. Use slices to handle empty strings more robustly."
      ]
    },
    {
      "cell_type": "code",
      "execution_count": null,
      "metadata": {
        "id": "pM3q2FKkX-yi",
        "outputId": "793c2c0f-2a05-415e-dc6c-ccc0b9b7aa88"
      },
      "outputs": [
        {
          "name": "stdout",
          "output_type": "stream",
          "text": [
            "* Checking 'aaaabb': True solution is ('a', 4)...\n",
            "* Checking 'bbbaaabaaaa': True solution is ('a', 4)...\n",
            "* Checking 'bbbaaaabaaa': True solution is ('a', 4)...\n",
            "* Checking 'bbbaabbaaa': True solution is ('b', 3)...\n",
            "* Checking 'cbdeuuu900': True solution is ('u', 3)...\n",
            "* Checking 'abbbbb': True solution is ('b', 5)...\n",
            "* Checking 'aabb': True solution is ('a', 2)...\n",
            "* Checking 'ba': True solution is ('b', 1)...\n",
            "* Checking '': True solution is ('', 0)...\n",
            "\n",
            "(Passed!)\n"
          ]
        }
      ],
      "source": [
        "def longest_consecutive_subsequence_0b(s):\n",
        "    def update(best, previous):\n",
        "        return max(best, previous, key=len)\n",
        "    previous = ''\n",
        "    best = ''\n",
        "    for c in s:\n",
        "        if c != previous[-1:]:\n",
        "            best = update(best, previous)\n",
        "            previous = ''\n",
        "        previous += c\n",
        "    best = update(best, previous)\n",
        "    return best[-1:], len(best)\n",
        "\n",
        "check(longest_consecutive_subsequence_0b)"
      ]
    },
    {
      "cell_type": "markdown",
      "metadata": {
        "id": "-vSjOJTMX-yi"
      },
      "source": [
        "### Method 1: Data parallelism ###\n",
        "\n",
        "Instead of thinking about building the solution one character at a time, let's try to think about the input \"as a whole.\" What are you really looking for?\n",
        "\n",
        "In the case of this problem, the input string is really a collection of substrings having the same letter. You can think of finding the solution in two parts: (1) finding the substrings, and then (2) finding the largest one."
      ]
    },
    {
      "cell_type": "markdown",
      "metadata": {
        "id": "zCwwIf5wX-yi"
      },
      "source": [
        "For example, consider the input string again:"
      ]
    },
    {
      "cell_type": "code",
      "execution_count": null,
      "metadata": {
        "id": "rwaYK2PWX-yi"
      },
      "outputs": [],
      "source": [
        "s = 'bbbaaabaaaa'"
      ]
    },
    {
      "cell_type": "markdown",
      "metadata": {
        "id": "JUTSPAY7X-yi"
      },
      "source": [
        "The pieces correspond to these slices of `s`:"
      ]
    },
    {
      "cell_type": "code",
      "execution_count": null,
      "metadata": {
        "id": "1Q3RYkfdX-yi",
        "outputId": "671c69cc-8d07-47e6-c5a2-fdbee9aa3de7"
      },
      "outputs": [
        {
          "data": {
            "text/plain": [
              "('bbb', 'aaa', 'b', 'aaaa')"
            ]
          },
          "execution_count": 18,
          "metadata": {},
          "output_type": "execute_result"
        }
      ],
      "source": [
        "s[0:3], s[3:6], s[6:7], s[7:11]"
      ]
    },
    {
      "cell_type": "markdown",
      "metadata": {
        "id": "ec_eCNpuX-yi"
      },
      "source": [
        "To reconstruct these substrings, all you need are the locations of _changes_, which occur at positions `[0, 3, 6, 7, 11]`."
      ]
    },
    {
      "cell_type": "markdown",
      "metadata": {
        "id": "uOKPtoy7X-yi"
      },
      "source": [
        "To find these, we need to look at consecutive pairs of letters in `s` and see where they differ. Let's write some code to build up this information in two parts."
      ]
    },
    {
      "cell_type": "code",
      "execution_count": null,
      "metadata": {
        "id": "c7Sw4w02X-yi",
        "outputId": "1b004cc7-acc9-423c-9baa-42267090077e"
      },
      "outputs": [
        {
          "name": "stdout",
          "output_type": "stream",
          "text": [
            "s = bbbaaabaaaa\n"
          ]
        },
        {
          "data": {
            "text/plain": [
              "[('b', 'b'),\n",
              " ('b', 'b'),\n",
              " ('b', 'a'),\n",
              " ('a', 'a'),\n",
              " ('a', 'a'),\n",
              " ('a', 'b'),\n",
              " ('b', 'a'),\n",
              " ('a', 'a'),\n",
              " ('a', 'a'),\n",
              " ('a', 'a')]"
            ]
          },
          "execution_count": 19,
          "metadata": {},
          "output_type": "execute_result"
        }
      ],
      "source": [
        "def zip_neighbors(s):\n",
        "    ### INSERT CODE ###\n",
        "    return zip(s[:-1], s[1:])\n",
        "\n",
        "print(\"s =\", s)\n",
        "list(zip_neighbors(s))"
      ]
    },
    {
      "cell_type": "markdown",
      "metadata": {
        "id": "EwYFhf8aX-yi"
      },
      "source": [
        "To associate these neighbor-pairs with positions, apply `enumerate`:"
      ]
    },
    {
      "cell_type": "code",
      "execution_count": null,
      "metadata": {
        "id": "cf6GTt8qX-yi",
        "outputId": "7ff4d5af-adbe-4a0d-c637-d242b628ab1e"
      },
      "outputs": [
        {
          "name": "stdout",
          "output_type": "stream",
          "text": [
            "s = bbbaaabaaaa\n"
          ]
        },
        {
          "data": {
            "text/plain": [
              "[(0, ('b', 'b')),\n",
              " (1, ('b', 'b')),\n",
              " (2, ('b', 'a')),\n",
              " (3, ('a', 'a')),\n",
              " (4, ('a', 'a')),\n",
              " (5, ('a', 'b')),\n",
              " (6, ('b', 'a')),\n",
              " (7, ('a', 'a')),\n",
              " (8, ('a', 'a')),\n",
              " (9, ('a', 'a'))]"
            ]
          },
          "execution_count": 20,
          "metadata": {},
          "output_type": "execute_result"
        }
      ],
      "source": [
        "print(\"s =\", s)\n",
        "\n",
        "### INSERT: APPLY ENUMERATE ###\n",
        "list(enumerate(zip_neighbors(s)))"
      ]
    },
    {
      "cell_type": "markdown",
      "metadata": {
        "id": "k7B56kcoX-yi"
      },
      "source": [
        "These are the building blocks for a \"change detector:\""
      ]
    },
    {
      "cell_type": "code",
      "execution_count": null,
      "metadata": {
        "id": "O_zLIoswX-yi",
        "outputId": "e2d2c6a7-46b1-416f-ea78-b035a2eac609"
      },
      "outputs": [
        {
          "data": {
            "text/plain": [
              "[0, 3, 6, 7, 11]"
            ]
          },
          "execution_count": 21,
          "metadata": {},
          "output_type": "execute_result"
        }
      ],
      "source": [
        "def detect_changes(s):\n",
        "    ### INSERT SOLUTION ###\n",
        "    interior_changes = [p+1 for p, (x, y) in enumerate(zip_neighbors(s)) if x != y]\n",
        "    return [0] + interior_changes + [len(s)]\n",
        "\n",
        "detect_changes(s)"
      ]
    },
    {
      "cell_type": "markdown",
      "metadata": {
        "id": "Cu48w2QEX-yi"
      },
      "source": [
        "> _Aside:_ The implementation of `detect_changes` produces the following result on an empty input:"
      ]
    },
    {
      "cell_type": "code",
      "execution_count": null,
      "metadata": {
        "id": "0PqbHLJHX-yi",
        "outputId": "9ed00038-5850-4042-ae02-8a6a2c9b9190"
      },
      "outputs": [
        {
          "data": {
            "text/plain": [
              "[0, 0]"
            ]
          },
          "execution_count": 22,
          "metadata": {},
          "output_type": "execute_result"
        }
      ],
      "source": [
        "detect_changes('')"
      ]
    },
    {
      "cell_type": "markdown",
      "metadata": {
        "id": "IEKy0yRGX-yj"
      },
      "source": [
        "From the changes, the pieces follow:"
      ]
    },
    {
      "cell_type": "code",
      "execution_count": null,
      "metadata": {
        "id": "bghrt4SwX-yj",
        "outputId": "a241ce7c-b9cd-46d2-ad07-0bdc3acb6685"
      },
      "outputs": [
        {
          "data": {
            "text/plain": [
              "['bbb', 'aaa', 'b', 'aaaa']"
            ]
          },
          "execution_count": 23,
          "metadata": {},
          "output_type": "execute_result"
        }
      ],
      "source": [
        "def get_pieces(s, changes):\n",
        "    ### INSERT SOLUTION ###\n",
        "    return [s[i:j] for i, j in zip_neighbors(changes)]\n",
        "\n",
        "get_pieces(s, detect_changes(s))"
      ]
    },
    {
      "cell_type": "markdown",
      "metadata": {
        "id": "9kK7YyfWX-yj"
      },
      "source": [
        "The largest piece is then easy to find:"
      ]
    },
    {
      "cell_type": "code",
      "execution_count": null,
      "metadata": {
        "id": "coID-0bOX-yj",
        "outputId": "10ef2aa7-17d4-4619-bc3b-a5f7629288ec"
      },
      "outputs": [
        {
          "data": {
            "text/plain": [
              "'aaaa'"
            ]
          },
          "execution_count": 24,
          "metadata": {},
          "output_type": "execute_result"
        }
      ],
      "source": [
        "### FIND LARGEST PIECE VIA KEYED `max` ###\n",
        "max(get_pieces(s, detect_changes(s)), key=len)"
      ]
    },
    {
      "cell_type": "markdown",
      "metadata": {
        "id": "PvzLSF4LX-yj"
      },
      "source": [
        "Putting it all together:"
      ]
    },
    {
      "cell_type": "code",
      "execution_count": null,
      "metadata": {
        "id": "Fj7nbYZBX-yj",
        "outputId": "f702056d-81e0-4f80-9fd9-120cd02593a6"
      },
      "outputs": [
        {
          "data": {
            "text/plain": [
              "('a', 4)"
            ]
          },
          "execution_count": 25,
          "metadata": {},
          "output_type": "execute_result"
        }
      ],
      "source": [
        "def longest_consecutive_subsequence_1(s):\n",
        "    changes = detect_changes(s)\n",
        "    pieces = get_pieces(s, changes)\n",
        "    largest_piece = max(pieces, key=len)\n",
        "    return largest_piece[:1], len(largest_piece)\n",
        "\n",
        "longest_consecutive_subsequence_1(s)"
      ]
    },
    {
      "cell_type": "code",
      "execution_count": null,
      "metadata": {
        "id": "MgyaOMO9X-yj",
        "outputId": "02337982-0f76-4455-d038-6ae6b6f18bc6"
      },
      "outputs": [
        {
          "name": "stdout",
          "output_type": "stream",
          "text": [
            "* Checking 'aaaabb': True solution is ('a', 4)...\n",
            "* Checking 'bbbaaabaaaa': True solution is ('a', 4)...\n",
            "* Checking 'bbbaaaabaaa': True solution is ('a', 4)...\n",
            "* Checking 'bbbaabbaaa': True solution is ('b', 3)...\n",
            "* Checking 'cbdeuuu900': True solution is ('u', 3)...\n",
            "* Checking 'abbbbb': True solution is ('b', 5)...\n",
            "* Checking 'aabb': True solution is ('a', 2)...\n",
            "* Checking 'ba': True solution is ('b', 1)...\n",
            "* Checking '': True solution is ('', 0)...\n",
            "\n",
            "(Passed!)\n"
          ]
        }
      ],
      "source": [
        "check(longest_consecutive_subsequence_1)"
      ]
    },
    {
      "cell_type": "markdown",
      "metadata": {
        "id": "prMC0zDzX-yj"
      },
      "source": [
        "### Method 2: Data parallel \"preconditioning\" approach ###\n",
        "\n",
        "Transform the input into something, e.g., preprocess or \"precondition\" it so that the problem becomes easier to solve."
      ]
    },
    {
      "cell_type": "code",
      "execution_count": null,
      "metadata": {
        "id": "J_3iGxmqX-yj",
        "outputId": "77a3cb07-11d2-429c-db80-844a53268d83"
      },
      "outputs": [
        {
          "data": {
            "text/plain": [
              "['bbb', 'aaa', 'b', 'aaaa']"
            ]
          },
          "execution_count": 27,
          "metadata": {},
          "output_type": "execute_result"
        }
      ],
      "source": [
        "### INSERT: DEMO `s` and `t` ###\n",
        "s = 'bbbaaabaaaa'\n",
        "t = 'bbb|aaa|b|aaaa'\n",
        "t.split('|')"
      ]
    },
    {
      "cell_type": "code",
      "execution_count": null,
      "metadata": {
        "id": "yYC-nKJpX-yj",
        "outputId": "9cb6eac9-f944-458d-f115-cbebf3f4ccfd"
      },
      "outputs": [
        {
          "name": "stdout",
          "output_type": "stream",
          "text": [
            "* Checking 'aaaabb': True solution is ('a', 4)...\n",
            "* Checking 'bbbaaabaaaa': True solution is ('a', 4)...\n",
            "* Checking 'bbbaaaabaaa': True solution is ('a', 4)...\n",
            "* Checking 'bbbaabbaaa': True solution is ('b', 3)...\n",
            "* Checking 'cbdeuuu900': True solution is ('u', 3)...\n",
            "* Checking 'abbbbb': True solution is ('b', 5)...\n",
            "* Checking 'aabb': True solution is ('a', 2)...\n",
            "* Checking 'ba': True solution is ('b', 1)...\n",
            "* Checking '': True solution is ('', 0)...\n",
            "\n",
            "(Passed!)\n"
          ]
        }
      ],
      "source": [
        "def insert_cuts(s, separator='|'):\n",
        "    assert separator not in s     # Q for you: \"but y tho\"\n",
        "    def conditional_inject(x, y):\n",
        "        return x + (separator if x != y else '')\n",
        "    cut_pieces = [conditional_inject(x, y) for x, y in zip_neighbors(s)]\n",
        "    cut_pieces.append(s[-1:])\n",
        "    return ''.join(cut_pieces)\n",
        "\n",
        "def longest_consecutive_subsequence_3(s):\n",
        "    t = insert_cuts(s)\n",
        "    substrings = t.split('|')\n",
        "    largest_substring = max(substrings, key=len)\n",
        "    return largest_substring[-1:], len(largest_substring)\n",
        "\n",
        "check(longest_consecutive_subsequence_3)"
      ]
    },
    {
      "cell_type": "markdown",
      "metadata": {
        "id": "drZaqQQuX-yj"
      },
      "source": [
        "## Summary ##\n",
        "\n",
        "Here is a quick review of the main ideas in this note:\n",
        "\n",
        "- **Functions** encapsulate ... functionality!\n",
        "- **Higher-order functions** enable customization, e.g., `sorted` and `max`.\n",
        "- **Slices** are well-worth mastering. Empty ranges produced empty lists, which we exploited to write more robust code for corner cases.\n",
        "- **Data parallelism** is an \"all-at-once\" mindset, which can be more efficient, easier to read, and easier to parallelize."
      ]
    }
  ],
  "metadata": {
    "celltoolbar": "Slideshow",
    "kernelspec": {
      "display_name": "Python 3 (ipykernel)",
      "language": "python",
      "name": "python3"
    },
    "language_info": {
      "codemirror_mode": {
        "name": "ipython",
        "version": 3
      },
      "file_extension": ".py",
      "mimetype": "text/x-python",
      "name": "python",
      "nbconvert_exporter": "python",
      "pygments_lexer": "ipython3",
      "version": "3.9.13"
    },
    "toc": {
      "base_numbering": 1,
      "nav_menu": {},
      "number_sections": true,
      "sideBar": true,
      "skip_h1_title": false,
      "title_cell": "Table of Contents",
      "title_sidebar": "Contents",
      "toc_cell": false,
      "toc_position": {},
      "toc_section_display": true,
      "toc_window_display": false
    },
    "colab": {
      "provenance": [],
      "include_colab_link": true
    }
  },
  "nbformat": 4,
  "nbformat_minor": 0
}